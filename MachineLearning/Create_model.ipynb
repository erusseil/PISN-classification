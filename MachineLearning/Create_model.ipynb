{
 "cells": [
  {
   "cell_type": "code",
   "execution_count": null,
   "id": "boolean-project",
   "metadata": {},
   "outputs": [],
   "source": [
    "import numpy as np\n",
    "import matplotlib\n",
    "import matplotlib.pyplot as plt\n",
    "import pandas as pd\n",
    "from PISNml import *\n",
    "\n",
    "from sklearn.model_selection import train_test_split"
   ]
  },
  {
   "cell_type": "code",
   "execution_count": null,
   "id": "lyric-niger",
   "metadata": {},
   "outputs": [],
   "source": [
    "sample = 'Iron/'\n",
    "curve = 'Half/'\n",
    "additional = \"4p/\"\n",
    "PISN_split = '-2'\n",
    "model = '_poly'\n",
    "purpose = 'test'\n",
    "nb_tree = 100\n",
    "\n",
    "target=994\n",
    "file = 'FUSED'\n",
    "binary=True\n",
    "if binary==True:\n",
    "    classification = '_bi'\n",
    "else :\n",
    "    classification = ''"
   ]
  },
  {
   "cell_type": "code",
   "execution_count": null,
   "id": "communist-salad",
   "metadata": {},
   "outputs": [],
   "source": [
    "training=pd.read_pickle(\"../../plasticc/param_table/\"+sample+curve+additional+purpose+PISN_split+model+file+\".pkl\")\n",
    "save='../../plasticc/MachineLearningModels/'+sample+curve+additional+'ML_'+PISN_split+model+file+classification"
   ]
  },
  {
   "cell_type": "code",
   "execution_count": null,
   "id": "biological-consensus",
   "metadata": {},
   "outputs": [],
   "source": [
    "# We split the sample into 2 parts. Be sure to use the same random state to analysis the data later on\n",
    "X_train,X_test,y_train,y_test=train_test_split(training.loc[:,0:],training['target'],test_size=0.30,random_state=2)\n",
    "create_ml(pd.concat([y_train,X_train],axis=1),save,binary=binary,target=target,nb_tree=,nb_tree)"
   ]
  }
 ],
 "metadata": {
  "kernelspec": {
   "display_name": "Python 3",
   "language": "python",
   "name": "python3"
  },
  "language_info": {
   "codemirror_mode": {
    "name": "ipython",
    "version": 3
   },
   "file_extension": ".py",
   "mimetype": "text/x-python",
   "name": "python",
   "nbconvert_exporter": "python",
   "pygments_lexer": "ipython3",
   "version": "3.8.5"
  }
 },
 "nbformat": 4,
 "nbformat_minor": 5
}

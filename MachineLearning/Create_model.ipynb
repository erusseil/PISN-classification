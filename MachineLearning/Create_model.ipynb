{
 "cells": [
  {
   "cell_type": "code",
   "execution_count": 20,
   "id": "boolean-project",
   "metadata": {},
   "outputs": [],
   "source": [
    "import numpy as np\n",
    "import matplotlib\n",
    "import matplotlib.pyplot as plt\n",
    "import pandas as pd\n",
    "import PISNml"
   ]
  },
  {
   "cell_type": "code",
   "execution_count": 21,
   "id": "lyric-niger",
   "metadata": {},
   "outputs": [],
   "source": [
    "sample = 'Silver/'\n",
    "PISN_split = '-1_'\n",
    "curve = 'Half/'\n",
    "model = 'poly'\n",
    "classification = ''#'_bi'"
   ]
  },
  {
   "cell_type": "code",
   "execution_count": 22,
   "id": "communist-salad",
   "metadata": {},
   "outputs": [],
   "source": [
    "training=pd.read_pickle(\"../../plasticc/param_table/\"+sample+curve+\"train\"+PISN_split+model+\".pkl\")\n",
    "save='../../plasticc/MachineLearningModels/'+sample+curve+'ML_'+PISN_split+model+classification"
   ]
  },
  {
   "cell_type": "code",
   "execution_count": 24,
   "id": "cheap-garbage",
   "metadata": {},
   "outputs": [],
   "source": [
    "if classification == '_bi':\n",
    "    PISNml.create_ml(training,save,binary=True)\n",
    "else :\n",
    "    PISNml.create_ml(training,save,binary=False)"
   ]
  },
  {
   "cell_type": "code",
   "execution_count": null,
   "id": "every-liberty",
   "metadata": {},
   "outputs": [],
   "source": []
  }
 ],
 "metadata": {
  "kernelspec": {
   "display_name": "Python 3",
   "language": "python",
   "name": "python3"
  },
  "language_info": {
   "codemirror_mode": {
    "name": "ipython",
    "version": 3
   },
   "file_extension": ".py",
   "mimetype": "text/x-python",
   "name": "python",
   "nbconvert_exporter": "python",
   "pygments_lexer": "ipython3",
   "version": "3.8.5"
  }
 },
 "nbformat": 4,
 "nbformat_minor": 5
}

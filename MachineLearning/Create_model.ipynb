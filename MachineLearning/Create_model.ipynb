{
 "cells": [
  {
   "cell_type": "code",
   "execution_count": 1,
   "id": "boolean-project",
   "metadata": {},
   "outputs": [],
   "source": [
    "import numpy as np\n",
    "import matplotlib\n",
    "import matplotlib.pyplot as plt\n",
    "import pandas as pd\n",
    "from PISNml import *\n",
    "\n",
    "from sklearn.model_selection import train_test_split"
   ]
  },
  {
   "cell_type": "code",
   "execution_count": 2,
   "id": "lyric-niger",
   "metadata": {},
   "outputs": [],
   "source": [
    "sample = 'Silver/'\n",
    "PISN_split = '-1_'\n",
    "curve = 'Complete/'\n",
    "model = 'poly'\n",
    "classification = '_bi'#''"
   ]
  },
  {
   "cell_type": "code",
   "execution_count": 3,
   "id": "communist-salad",
   "metadata": {},
   "outputs": [],
   "source": [
    "training=pd.read_pickle(\"../../plasticc/param_table/\"+sample+curve+\"train\"+PISN_split+model+\".pkl\")\n",
    "save='../../plasticc/MachineLearningModels/'+sample+curve+'ML_'+PISN_split+model+classification"
   ]
  },
  {
   "cell_type": "code",
   "execution_count": null,
   "id": "marine-thriller",
   "metadata": {},
   "outputs": [],
   "source": [
    "if classification == '_bi':\n",
    "    create_ml(training,save,binary=True)\n",
    "else :\n",
    "    create_ml(training,save,binary=False)"
   ]
  },
  {
   "cell_type": "code",
   "execution_count": 3,
   "id": "biological-consensus",
   "metadata": {},
   "outputs": [],
   "source": [
    "# If you only have one sample, you can split it using this cell\n",
    "\n",
    "#X_train,X_test,y_train,y_test=train_test_split(training.loc[:,0:],training['target'],test_size=0.9,random_state=2)\n",
    "#create_ml(pd.concat([y_train,X_train],axis=1),save,binary=True)"
   ]
  }
 ],
 "metadata": {
  "kernelspec": {
   "display_name": "Python 3",
   "language": "python",
   "name": "python3"
  },
  "language_info": {
   "codemirror_mode": {
    "name": "ipython",
    "version": 3
   },
   "file_extension": ".py",
   "mimetype": "text/x-python",
   "name": "python",
   "nbconvert_exporter": "python",
   "pygments_lexer": "ipython3",
   "version": "3.8.5"
  }
 },
 "nbformat": 4,
 "nbformat_minor": 5
}

{
 "cells": [
  {
   "cell_type": "code",
   "execution_count": 8,
   "id": "boolean-project",
   "metadata": {},
   "outputs": [],
   "source": [
    "import numpy as np\n",
    "import matplotlib\n",
    "import matplotlib.pyplot as plt\n",
    "import pandas as pd\n",
    "import PISNml"
   ]
  },
  {
   "cell_type": "code",
   "execution_count": 19,
   "id": "communist-salad",
   "metadata": {},
   "outputs": [],
   "source": [
    "training=pd.read_pickle(\"../../plasticc/param_table/Gold_train_poly.pkl\")\n",
    "save='../../plasticc/MachineLearningModels/ML_Gold'"
   ]
  },
  {
   "cell_type": "code",
   "execution_count": 20,
   "id": "cheap-garbage",
   "metadata": {},
   "outputs": [],
   "source": [
    "PISNml.create_ml(training,save,binary=False)"
   ]
  }
 ],
 "metadata": {
  "kernelspec": {
   "display_name": "Python 3",
   "language": "python",
   "name": "python3"
  },
  "language_info": {
   "codemirror_mode": {
    "name": "ipython",
    "version": 3
   },
   "file_extension": ".py",
   "mimetype": "text/x-python",
   "name": "python",
   "nbconvert_exporter": "python",
   "pygments_lexer": "ipython3",
   "version": "3.8.5"
  }
 },
 "nbformat": 4,
 "nbformat_minor": 5
}

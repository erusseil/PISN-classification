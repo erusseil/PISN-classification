{
 "cells": [
  {
   "cell_type": "code",
   "execution_count": 1,
   "id": "square-yesterday",
   "metadata": {},
   "outputs": [],
   "source": [
    "import numpy as np\n",
    "import matplotlib\n",
    "import matplotlib.pyplot as plt\n",
    "import pandas as pd\n",
    "\n",
    "import pickle\n",
    "\n",
    "from sklearn.metrics import confusion_matrix\n",
    "import seaborn as sns\n"
   ]
  },
  {
   "cell_type": "code",
   "execution_count": null,
   "id": "generic-quarter",
   "metadata": {
    "scrolled": false
   },
   "outputs": [],
   "source": [
    "mlmodel= pickle.load(open('../../plasticc/MachineLearningModels/ML_Gold_bi.sav', 'rb'))\n",
    "\n",
    "training=pd.read_pickle(\"../../plasticc/param_table/Gold_train_poly.pkl\")\n",
    "testing=pd.read_pickle(\"../../plasticc/param_table/Gold_test_poly.pkl\")\n",
    "\n",
    "if len(mlmodel.classes_)==2:  # Binary case\n",
    "    training.loc[training['target']!=994,'target']=1\n",
    "    testing.loc[testing['target']!=994,'target']=1\n",
    "\n",
    "X_train = training.loc[:,0:]\n",
    "y_train = training['target']\n",
    "X_test = testing.loc[:,0:]\n",
    "y_test= testing['target']\n",
    "\n",
    "classes=np.unique(testing['target'])"
   ]
  },
  {
   "cell_type": "code",
   "execution_count": null,
   "id": "continental-arizona",
   "metadata": {},
   "outputs": [],
   "source": [
    "predic_train=mlmodel.predict(X_train)\n",
    "\n",
    "good_prediction_train=y_train==predic_train\n",
    "accuracy_train=good_prediction_train.sum()/len(good_prediction_train)\n",
    "print('\\nThis model has an accuracy of %.2f %% on the training sample'%(accuracy_train*100))"
   ]
  },
  {
   "cell_type": "code",
   "execution_count": null,
   "id": "collected-backing",
   "metadata": {},
   "outputs": [],
   "source": [
    "#Now let us test our model on the testing sample\n",
    "\n",
    "predic_test=mlmodel.predict(X_test)\n",
    "\n",
    "good_prediction_test=y_test==predic_test\n",
    "accuracy_test=good_prediction_test.sum()/len(good_prediction_test)\n",
    "print('\\nThis model has an accuracy of %.2f %% on the testing sample'%(accuracy_test*100))"
   ]
  },
  {
   "cell_type": "code",
   "execution_count": null,
   "id": "ideal-northern",
   "metadata": {},
   "outputs": [],
   "source": [
    "target_dict={90:'SNIa',67:'SNIa-91bg',\n",
    "             52:'SNIax',42:'SNII',\n",
    "             62:'SNIbc',95:'SLSN-I',\n",
    "             15:'TDE',64:'KN',\n",
    "             88:'AGN',92:'RRL',\n",
    "             65:'M-dwarf',16:'EB',\n",
    "             53:'Mira',6:'Lens-Single',\n",
    "             994:'PISN', 999:'UNKNOWN',\n",
    "             992 : 'ILOT', 993:'CaRT',\n",
    "             995:'Lens-String',1:'NON PISN'}\n",
    "passband_list = {0:'u',1:'g',2:'r',3:'i',4:'z',5:'y'}"
   ]
  },
  {
   "cell_type": "code",
   "execution_count": null,
   "id": "tribal-methodology",
   "metadata": {},
   "outputs": [],
   "source": [
    "classe_names=[]\n",
    "for i in range(len(classes)):\n",
    "    classe_names.append(target_dict.get(classes[i]))\n",
    "\n",
    "# On calcul la matrice de confusion\n",
    "conf_matrix = confusion_matrix(y_test, predic_test)\n",
    "\n",
    "#On affiche la matrice de confusion\n",
    "plt.figure(figsize=(8,8))\n",
    "sns.heatmap(conf_matrix, xticklabels=classe_names, yticklabels=classe_names, annot=True, fmt=\"d\");\n",
    "plt.ylabel('True class')\n",
    "plt.xlabel('Predicted class')\n",
    "plt.title(\"Confusion matrix\",fontsize=15)\n",
    "\n",
    "plt.show()\n",
    "\n",
    "posPISN=len(conf_matrix)-1\n",
    "print('Objects predicted as PISN are really PISN %.2f %% of the time.'%(100*conf_matrix[posPISN,posPISN]/conf_matrix[:,posPISN].sum()))\n",
    "print('PISN are predicted as PISN %.2f %% of the time.'%(100*conf_matrix[posPISN,posPISN]/conf_matrix[posPISN,:].sum()))"
   ]
  },
  {
   "cell_type": "code",
   "execution_count": null,
   "id": "mature-palestine",
   "metadata": {},
   "outputs": [],
   "source": []
  }
 ],
 "metadata": {
  "kernelspec": {
   "display_name": "Python 3",
   "language": "python",
   "name": "python3"
  },
  "language_info": {
   "codemirror_mode": {
    "name": "ipython",
    "version": 3
   },
   "file_extension": ".py",
   "mimetype": "text/x-python",
   "name": "python",
   "nbconvert_exporter": "python",
   "pygments_lexer": "ipython3",
   "version": "3.8.5"
  }
 },
 "nbformat": 4,
 "nbformat_minor": 5
}

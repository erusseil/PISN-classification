{
 "cells": [
  {
   "cell_type": "code",
   "execution_count": 1,
   "id": "square-yesterday",
   "metadata": {},
   "outputs": [],
   "source": [
    "import numpy as np\n",
    "import matplotlib\n",
    "import matplotlib.pyplot as plt\n",
    "import pandas as pd\n",
    "\n",
    "import pickle\n",
    "\n",
    "from sklearn.metrics import confusion_matrix\n",
    "import seaborn as sns\n",
    "\n",
    "from sklearn.model_selection import train_test_split\n"
   ]
  },
  {
   "cell_type": "code",
   "execution_count": 13,
   "id": "ideal-northern",
   "metadata": {},
   "outputs": [],
   "source": [
    "target_dict={90:'SNIa',67:'SNIa-91bg',\n",
    "             52:'SNIax',42:'SNII',\n",
    "             62:'SNIbc',95:'SLSN-I',\n",
    "             15:'TDE',64:'KN',\n",
    "             88:'AGN',92:'RRL',\n",
    "             65:'M-dwarf',16:'EB',\n",
    "             53:'Mira',6:'Lens-Single',\n",
    "             994:'PISN', 999:'UNKNOWN',\n",
    "             992 : 'ILOT', 993:'CaRT',\n",
    "             995:'Lens-String',1:'Other'}\n",
    "passband_list = {0:'u',1:'g',2:'r',3:'i',4:'z',5:'y'}"
   ]
  },
  {
   "cell_type": "code",
   "execution_count": 27,
   "id": "likely-blame",
   "metadata": {},
   "outputs": [],
   "source": [
    "sample = 'Iron/'\n",
    "curve = 'Half/'\n",
    "PISN_split = '-2'\n",
    "model = '_poly'\n",
    "purpose = 'test'\n",
    "\n",
    "classification = '_bi'\n",
    "file = 'FUSED'\n",
    "additional = '4p/'#\n",
    "target = 994\n",
    "\n",
    "threshold=0.5 # Probability threshold above which an object will be classified as the target of interest\n",
    "              # --> Works only for a binary classfication              "
   ]
  },
  {
   "cell_type": "code",
   "execution_count": 14,
   "id": "generic-quarter",
   "metadata": {
    "scrolled": false
   },
   "outputs": [
    {
     "name": "stdout",
     "output_type": "stream",
     "text": [
      "[ 1 88]\n"
     ]
    }
   ],
   "source": [
    "mlmodel= pickle.load(open('../../plasticc/MachineLearningModels/'+sample+curve+additional+'ML_'+PISN_split+model+file+classification+'.sav', 'rb'))\n",
    "\n",
    "training=pd.read_pickle(\"../../plasticc/param_table/\"+sample+curve+\"4p/\"+purpose+PISN_split+model+file+\".pkl\")\n",
    "\n",
    "if len(mlmodel.classes_)==2:  # Binary case\n",
    "    training.loc[training['target']!=target,'target']=1\n",
    "    \n",
    "print(mlmodel.classes_)\n",
    "X_train,X_test,y_train,y_test=train_test_split(training.loc[:,0:],training['target'],test_size=0.30,random_state=2)\n",
    "\n",
    "classes=np.unique(training['target'])"
   ]
  },
  {
   "cell_type": "code",
   "execution_count": 7,
   "id": "continental-arizona",
   "metadata": {},
   "outputs": [],
   "source": [
    "if classification == '_bi':\n",
    "    predic_train=mlmodel.predict_proba(X_train)\n",
    "    predic_train_target = np.array([1 if x <=threshold else target for x in predic_train[:,1]]) \n",
    "\n",
    "else :\n",
    "    predic_train_target = mlmodel.predict(X_train)"
   ]
  },
  {
   "cell_type": "code",
   "execution_count": 8,
   "id": "native-diversity",
   "metadata": {},
   "outputs": [
    {
     "name": "stdout",
     "output_type": "stream",
     "text": [
      "\n",
      "This model has an accuracy of 89.49 % on the training sample\n"
     ]
    }
   ],
   "source": [
    "good_prediction_train=y_train==predic_train_target\n",
    "accuracy_train=good_prediction_train.sum()/len(good_prediction_train)\n",
    "print('\\nThis model has an accuracy of %.2f %% on the training sample'%(accuracy_train*100))"
   ]
  },
  {
   "cell_type": "code",
   "execution_count": 9,
   "id": "younger-seeking",
   "metadata": {},
   "outputs": [],
   "source": [
    "if classification == '_bi':\n",
    "    predic_test=mlmodel.predict_proba(X_test)\n",
    "    predic_test_target = np.array([1 if x <=threshold else target for x in predic_test[:,1]]) \n",
    "\n",
    "else :\n",
    "    predic_train_target = mlmodel.predict(X_train)"
   ]
  },
  {
   "cell_type": "code",
   "execution_count": 10,
   "id": "collected-backing",
   "metadata": {},
   "outputs": [
    {
     "name": "stdout",
     "output_type": "stream",
     "text": [
      "\n",
      "This model has an accuracy of 91.59 % on the testing sample\n"
     ]
    }
   ],
   "source": [
    "#Now let us test our model on the testing sample\n",
    "good_prediction_test=y_test==predic_test_target\n",
    "accuracy_test=good_prediction_test.sum()/len(good_prediction_test)\n",
    "print('\\nThis model has an accuracy of %.2f %% on the testing sample'%(accuracy_test*100))"
   ]
  },
  {
   "cell_type": "code",
   "execution_count": 28,
   "id": "tribal-methodology",
   "metadata": {},
   "outputs": [
    {
     "data": {
      "image/png": "[encoded data removed]",
      "text/plain": [
       "<Figure size 576x576 with 2 Axes>"
      ]
     },
     "metadata": {
      "needs_background": "light"
     },
     "output_type": "display_data"
    },
    {
     "name": "stdout",
     "output_type": "stream",
     "text": [
      "Objects predicted as AGN are really AGN 0.13 % of the time.\n",
      "AGN are predicted as AGN 12.39 % of the time.\n"
     ]
    }
   ],
   "source": [
    "classe_names=[]\n",
    "for i in range(len(classes)):\n",
    "    classe_names.append(target_dict.get(classes[i]))\n",
    "\n",
    "# On calcul la matrice de confusion\n",
    "conf_matrix = confusion_matrix(y_test, predic_test_target)\n",
    "\n",
    "#On affiche la matrice de confusion\n",
    "plt.figure(figsize=(8,8))\n",
    "sns.heatmap(conf_matrix, xticklabels=classe_names, yticklabels=classe_names, annot=True, fmt=\"d\");\n",
    "plt.ylabel('True class')\n",
    "plt.xlabel('Predicted class')\n",
    "plt.title(\"Confusion matrix\",fontsize=15)\n",
    "\n",
    "plt.show()\n",
    "\n",
    "pos=1 # Position of the intresting target in the matrix\n",
    "\n",
    "print('Objects predicted as %s are really %s %.2f %% of the time.'%(str(target_dict.get(target)),str(target_dict.get(target)),100*conf_matrix[pos,pos]/conf_matrix[:,pos].sum()))\n",
    "print('%s are predicted as %s %.2f %% of the time.'%(str(target_dict.get(target)),str(target_dict.get(target)),100*conf_matrix[pos,pos]/conf_matrix[pos,:].sum()))"
   ]
  },
  {
   "cell_type": "code",
   "execution_count": 21,
   "id": "endangered-bundle",
   "metadata": {},
   "outputs": [],
   "source": [
    "d = {'target': y_test, 'proba_target': predic_test[:,1], \"proba_other\":predic_test[:,0]}\n",
    "proba_df = pd.DataFrame(data=d)\n",
    "proba_df = proba_df.sort_values('proba_target',ascending=False)"
   ]
  },
  {
   "cell_type": "code",
   "execution_count": 26,
   "id": "mature-palestine",
   "metadata": {},
   "outputs": [
    {
     "data": {
      "text/plain": [
       "<matplotlib.legend.Legend at 0x7fcd270d6730>"
      ]
     },
     "execution_count": 26,
     "metadata": {},
     "output_type": "execute_result"
    },
    {
     "data": {
      "image/png": "[encoded data removed]",
      "text/plain": [
       "<Figure size 1080x576 with 1 Axes>"
      ]
     },
     "metadata": {
      "needs_background": "light"
     },
     "output_type": "display_data"
    }
   ],
   "source": [
    "plt.figure(figsize=(15,8))\n",
    "y = proba_df.loc[proba_df['target']==target,'proba_target']\n",
    "x = np.linspace(0,1,100)\n",
    "plt.title('%s probability distribution from the random forest'%str(target_dict.get(target)),fontsize=17)\n",
    "plt.hist(y,bins=x);\n",
    "plt.ylabel('Number of %s'%str(target_dict.get(target)),fontsize=14)\n",
    "plt.xlabel('Probability to belong to the %s class'%str(target_dict.get(target)),fontsize=14)\n",
    "plt.axvline(x=threshold,color='red',label='%s %% threshold'%threshold)\n",
    "plt.legend(fontsize=14)\n",
    "#plt.savefig(\"hist_proba_pisn.png\")"
   ]
  },
  {
   "cell_type": "code",
   "execution_count": null,
   "id": "adverse-charge",
   "metadata": {},
   "outputs": [],
   "source": []
  }
 ],
 "metadata": {
  "kernelspec": {
   "display_name": "Python 3",
   "language": "python",
   "name": "python3"
  },
  "language_info": {
   "codemirror_mode": {
    "name": "ipython",
    "version": 3
   },
   "file_extension": ".py",
   "mimetype": "text/x-python",
   "name": "python",
   "nbconvert_exporter": "python",
   "pygments_lexer": "ipython3",
   "version": "3.8.5"
  }
 },
 "nbformat": 4,
 "nbformat_minor": 5
}

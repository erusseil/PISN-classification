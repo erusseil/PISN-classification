{
 "cells": [
  {
   "cell_type": "markdown",
   "id": "ordered-wireless",
   "metadata": {},
   "source": [
    "Here is a little notebook to run once in order to fuse all PISN into a single dataframe. You need to have a folder filled only with the PISN data"
   ]
  },
  {
   "cell_type": "code",
   "execution_count": 1,
   "id": "rough-advocacy",
   "metadata": {},
   "outputs": [],
   "source": [
    "import numpy as np\n",
    "import pandas as pd\n",
    "import os"
   ]
  },
  {
   "cell_type": "code",
   "execution_count": 2,
   "id": "latest-variety",
   "metadata": {},
   "outputs": [],
   "source": [
    "path_files = \"../../plasticc/PISN/\"\n",
    "path_save = \"../../plasticc/PISN/Fusion/PISN.pkl\""
   ]
  },
  {
   "cell_type": "code",
   "execution_count": 39,
   "id": "searching-tribe",
   "metadata": {},
   "outputs": [
    {
     "name": "stdout",
     "output_type": "stream",
     "text": [
      "PISN fused !\n"
     ]
    }
   ],
   "source": [
    "all_filenames = np.array(os.listdir(path_files))\n",
    "iscsv=[\".csv\" in f for f in all_filenames]\n",
    "\n",
    "PISN = pd.concat([pd.read_csv(path_files + f) for f in all_filenames[iscsv]])\n",
    "\n",
    "PISN=PISN.drop(\"Unnamed: 0\",axis=1)\n",
    "PISN['target']=994\n",
    "print(\"PISN fused !\")\n",
    "\n",
    "PISN.to_pickle(path_save)"
   ]
  }
 ],
 "metadata": {
  "kernelspec": {
   "display_name": "Python 3",
   "language": "python",
   "name": "python3"
  },
  "language_info": {
   "codemirror_mode": {
    "name": "ipython",
    "version": 3
   },
   "file_extension": ".py",
   "mimetype": "text/x-python",
   "name": "python",
   "nbconvert_exporter": "python",
   "pygments_lexer": "ipython3",
   "version": "3.8.5"
  }
 },
 "nbformat": 4,
 "nbformat_minor": 5
}

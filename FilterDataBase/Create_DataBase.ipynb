{
 "cells": [
  {
   "cell_type": "markdown",
   "id": "synthetic-radar",
   "metadata": {},
   "source": [
    "## Filter a data base and save it"
   ]
  },
  {
   "cell_type": "code",
   "execution_count": 1,
   "id": "circular-norwegian",
   "metadata": {},
   "outputs": [],
   "source": [
    "from data_base import *\n",
    "import numpy as np\n",
    "import pandas as pd"
   ]
  },
  {
   "cell_type": "code",
   "execution_count": 2,
   "id": "binary-belle",
   "metadata": {},
   "outputs": [],
   "source": [
    "# Import your databases\n",
    "\n",
    "data_train = pd.read_csv(\"../../plasticc/train_data/plasticc_train_lightcurves.csv.gz\")\n",
    "metadata_train = pd.read_csv(\"../../plasticc/train_data/plasticc_train_metadata.csv.gz\")\n",
    "\n",
    "data_test = pd.read_csv(\"../../plasticc/test_data/plasticc_test_lightcurves_01.csv.gz\")\n",
    "metadata_test = pd.read_csv(\"../../plasticc/test_data/plasticc_test_metadata.csv.gz\")\n",
    "\n",
    "PISNdf=pd.read_pickle('../../plasticc/PISN/Fusion/PISN.pkl')"
   ]
  },
  {
   "cell_type": "code",
   "execution_count": 7,
   "id": "appreciated-angel",
   "metadata": {
    "scrolled": false
   },
   "outputs": [
    {
     "name": "stdout",
     "output_type": "stream",
     "text": [
      "\n",
      "\n",
      " CREATION OF THE TRAINING DATA BASE\n",
      " \n",
      "We start with  7848 objects and 1421705 measurements\n",
      "\n",
      "After we add/remove PISN we have 8434 objects and 1496647 measurements\n",
      "--> There are  586 PISN in the dataset\n",
      "\n",
      "After EXTRA-GALACTIC and DDF we have 6314 objects and 803944 measurements\n",
      "--> There are  582 PISN in the dataset\n",
      "\n",
      "After TRUE_PEAK we have 4143 objects and 260886 measurements\n",
      "--> There are  538 PISN in the dataset\n",
      "Total time to select points before true peak 0.1 sec\n",
      "\n",
      "After PASSBANDS we have 4130 objects and 216939 measurements\n",
      "--> There are  537 PISN in the dataset\n",
      "\n",
      "After DDB we have 2863 objects and 13159 measurements\n",
      "--> There are  516 PISN in the dataset\n",
      "\n",
      "Total time to normalise mjd 0.0 sec\n",
      "\n",
      "Total time to check completness 0.1 sec\n",
      "\n",
      "After COMPLETNESS we are left with 47 objects and 1606 measurements\n",
      "--> There are  30 PISN in the dataset\n",
      "\n",
      "\n",
      " CREATION OF THE TESTING DATA BASE\n",
      " \n",
      "We start with  32926 objects and 10855958 measurements\n",
      "\n",
      "After we add/remove PISN we have 33506 objects and 10928736 measurements\n",
      "--> There are  586 PISN in the dataset\n",
      "\n",
      "After EXTRA-GALACTIC and DDF we have 584 objects and 74141 measurements\n",
      "--> There are  584 PISN in the dataset\n",
      "\n",
      "After TRUE_PEAK we have 546 objects and 35432 measurements\n",
      "--> There are  546 PISN in the dataset\n",
      "Total time to select points before true peak 0.0 sec\n",
      "\n",
      "After PASSBANDS we have 544 objects and 29443 measurements\n",
      "--> There are  544 PISN in the dataset\n",
      "\n",
      "After DDB we have 514 objects and 5164 measurements\n",
      "--> There are  514 PISN in the dataset\n",
      "\n",
      "Total time to normalise mjd 0.0 sec\n",
      "\n",
      "Total time to check completness 0.0 sec\n",
      "\n",
      "After COMPLETNESS we are left with 26 objects and 703 measurements\n",
      "--> There are  26 PISN in the dataset\n"
     ]
    }
   ],
   "source": [
    "# define all your inputs as parameters\n",
    "    \n",
    "\n",
    "#name_train = '../../plasticc/CleanDataBase/Gold/Half/train50'\n",
    "#name_test = '../../plasticc/CleanDataBase/Gold/Half/test50'\n",
    "\n",
    "name_train = '../../plasticc/CleanDataBase/experiment'\n",
    "name_test = '../../plasticc/CleanDataBase/experiment'\n",
    "\n",
    "band = [2,3,4,5]\n",
    "ratioPISN = 0.5\n",
    "Dbool = True\n",
    "ddf = False\n",
    "extra = False\n",
    "complete = True\n",
    "mjd_tozero = True\n",
    "half = True\n",
    "mini = 3\n",
    "metatest = metadata_test\n",
    "\n",
    "\n",
    "\n",
    "for training in [True,False]:#\n",
    "\n",
    "    if training == True:\n",
    "        name = name_train\n",
    "        data = data_train\n",
    "        metadata = metadata_train\n",
    "    else:\n",
    "        name = name_test\n",
    "        data = data_test\n",
    "        metadata = metadata_test\n",
    "\n",
    "    create(data, metadata,\n",
    "                band, name,\n",
    "                PISNdf, ratioPISN=ratioPISN,\n",
    "                training=training, Dbool=Dbool,\n",
    "                ddf=ddf, extra=extra,\n",
    "                complete=complete, mjd_tozero=mjd_tozero, mini=mini,\n",
    "                half=half, metatest=metatest)"
   ]
  },
  {
   "cell_type": "code",
   "execution_count": null,
   "id": "immediate-district",
   "metadata": {},
   "outputs": [],
   "source": []
  }
 ],
 "metadata": {
  "kernelspec": {
   "display_name": "Python 3",
   "language": "python",
   "name": "python3"
  },
  "language_info": {
   "codemirror_mode": {
    "name": "ipython",
    "version": 3
   },
   "file_extension": ".py",
   "mimetype": "text/x-python",
   "name": "python",
   "nbconvert_exporter": "python",
   "pygments_lexer": "ipython3",
   "version": "3.8.5"
  }
 },
 "nbformat": 4,
 "nbformat_minor": 5
}

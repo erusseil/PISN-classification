{
 "cells": [
  {
   "cell_type": "markdown",
   "id": "synthetic-radar",
   "metadata": {},
   "source": [
    "## Filter a data base and save it"
   ]
  },
  {
   "cell_type": "code",
   "execution_count": 1,
   "id": "circular-norwegian",
   "metadata": {},
   "outputs": [],
   "source": [
    "from data_base import *\n",
    "import numpy as np\n",
    "import pandas as pd"
   ]
  },
  {
   "cell_type": "code",
   "execution_count": 2,
   "id": "binary-belle",
   "metadata": {},
   "outputs": [],
   "source": [
    "# Import your databases\n",
    "\n",
    "data_train = pd.read_csv(\"../../plasticc/train_data/plasticc_train_lightcurves.csv.gz\")\n",
    "metadata_train = pd.read_csv(\"../../plasticc/train_data/plasticc_train_metadata.csv.gz\")\n",
    "\n",
    "data_test = pd.read_csv(\"../../plasticc/test_data/plasticc_test_lightcurves_01.csv.gz\")\n",
    "metadata_test = pd.read_csv(\"../../plasticc/test_data/plasticc_test_metadata.csv.gz\")\n",
    "\n",
    "PISNdf=pd.read_pickle('../../plasticc/PISN/Fusion/PISN.pkl')"
   ]
  },
  {
   "cell_type": "code",
   "execution_count": 6,
   "id": "appreciated-angel",
   "metadata": {
    "scrolled": false
   },
   "outputs": [
    {
     "name": "stdout",
     "output_type": "stream",
     "text": [
      "\n",
      "\n",
      " CREATION OF THE TRAINING DATA BASE\n",
      " \n",
      "We start with  7848 objects and 1421705 mesures\n",
      "After we add PISN we have 9020 objects and 1571490 mesures\n",
      "--> There are  1172 PISN in the dataset\n",
      "\n",
      "After EXTRA-GALACTIC and DDF we have 1582 objects and 519894 mesures\n",
      "--> There are  6 PISN in the dataset\n",
      "\n",
      "After PASSBANDS we have 1582 objects and 338715 mesures\n",
      "--> There are  6 PISN in the dataset\n",
      "\n",
      "After DDB we have 1575 objects and 65074 mesures\n",
      "--> There are  6 PISN in the dataset\n",
      "\n",
      "Total time to normalise mjd 0.0 sec\n",
      "\n",
      "Total time to check completness 0.1 sec\n",
      "\n",
      "After COMPLETNESS we are left with 1003 objects and 56815 mesures\n",
      "--> There are  3 PISN in the dataset\n",
      "\n",
      "\n",
      " CREATION OF THE TESTING DATA BASE\n",
      " \n",
      "We start with  32926 objects and 10855958 mesures\n",
      "After EXTRA-GALACTIC and DDF we have 32699 objects and 10784197 mesures\n",
      "--> There are  6 PISN in the dataset\n",
      "\n",
      "After PASSBANDS we have 32699 objects and 7010093 mesures\n",
      "--> There are  6 PISN in the dataset\n",
      "\n",
      "After DDB we have 32479 objects and 417955 mesures\n",
      "--> There are  6 PISN in the dataset\n",
      "\n",
      "Total time to normalise mjd 0.2 sec\n",
      "\n",
      "Total time to check completness 0.7 sec\n",
      "\n",
      "After COMPLETNESS we are left with 5325 objects and 192811 mesures\n",
      "--> There are  4 PISN in the dataset\n"
     ]
    }
   ],
   "source": [
    "# define all your inputs as parameters\n",
    "    \n",
    "name_train = '../../plasticc/CleanDataBase/Gold/Complete/repro'\n",
    "name_test = '../../plasticc/CleanDataBase/Gold/Complete/repro'\n",
    "\n",
    "\n",
    "band=[2,3,4,5]\n",
    "ratioPISN = -1\n",
    "Dbool = True\n",
    "ddf = True\n",
    "extra = True\n",
    "complete = True\n",
    "norm = True\n",
    "half=False\n",
    "mini=5\n",
    "metatest=metadata_test\n",
    "\n",
    "\n",
    "\n",
    "for training in [True,False]:#\n",
    "\n",
    "    if training == True:\n",
    "        name = name_train\n",
    "        data = data_train\n",
    "        metadata = metadata_train\n",
    "    else:\n",
    "        name = name_test\n",
    "        data = data_test\n",
    "        metadata = metadata_test\n",
    "\n",
    "    create(data, metadata,\n",
    "                band, name,\n",
    "                PISNdf, ratioPISN=ratioPISN,\n",
    "                training=training, Dbool=Dbool,\n",
    "                ddf=ddf, extra=extra,\n",
    "                complete=complete, norm=norm, mini=mini,\n",
    "                half=half, metatest=metatest)"
   ]
  },
  {
   "cell_type": "code",
   "execution_count": null,
   "id": "immediate-district",
   "metadata": {},
   "outputs": [],
   "source": []
  }
 ],
 "metadata": {
  "kernelspec": {
   "display_name": "Python 3",
   "language": "python",
   "name": "python3"
  },
  "language_info": {
   "codemirror_mode": {
    "name": "ipython",
    "version": 3
   },
   "file_extension": ".py",
   "mimetype": "text/x-python",
   "name": "python",
   "nbconvert_exporter": "python",
   "pygments_lexer": "ipython3",
   "version": "3.8.5"
  }
 },
 "nbformat": 4,
 "nbformat_minor": 5
}

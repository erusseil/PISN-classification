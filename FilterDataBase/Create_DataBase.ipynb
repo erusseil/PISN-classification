{
 "cells": [
  {
   "cell_type": "markdown",
   "id": "synthetic-radar",
   "metadata": {},
   "source": [
    "## Filter a data base and save it"
   ]
  },
  {
   "cell_type": "code",
   "execution_count": 1,
   "id": "circular-norwegian",
   "metadata": {},
   "outputs": [],
   "source": [
    "from data_base import *\n",
    "import numpy as np\n",
    "import pandas as pd"
   ]
  },
  {
   "cell_type": "code",
   "execution_count": 2,
   "id": "binary-belle",
   "metadata": {},
   "outputs": [],
   "source": [
    "# Import your databases\n",
    "\n",
    "data_train = pd.read_csv(\"../../plasticc/train_data/plasticc_train_lightcurves.csv.gz\")\n",
    "metadata_train = pd.read_csv(\"../../plasticc/train_data/plasticc_train_metadata.csv.gz\")\n",
    "\n",
    "data_test = pd.read_csv(\"../../plasticc/test_data/plasticc_test_lightcurves_10.csv.gz\")\n",
    "metadata_test = pd.read_csv(\"../../plasticc/test_data/plasticc_test_metadata.csv.gz\")\n",
    "\n",
    "PISNdf=pd.read_pickle('../../plasticc/PISN/Fusion/PISN.pkl')"
   ]
  },
  {
   "cell_type": "code",
   "execution_count": 3,
   "id": "appreciated-angel",
   "metadata": {
    "scrolled": false
   },
   "outputs": [
    {
     "name": "stdout",
     "output_type": "stream",
     "text": [
      "\n",
      "\n",
      " CREATION OF THE TRAINING DATA BASE\n",
      " \n",
      "We start with  7848 objects and 1421705 measurements\n",
      "\n",
      "After we add PISN we have 9020 objects and 1571490 measurements\n",
      "--> There are  1172 PISN in the dataset\n",
      "\n",
      "After EXTRA-GALACTIC and DDF we have 5113 objects and 651022 measurements\n",
      "--> There are  1166 PISN in the dataset\n",
      "\n",
      "After PASSBANDS we have 5113 objects and 530772 measurements\n",
      "--> There are  1166 PISN in the dataset\n",
      "\n",
      "Total time to translate mjd 0.1 sec\n",
      "\n",
      "Total time to normalise flux 0.1 sec\n",
      "\n",
      "Total time to check completness 0.3 sec\n",
      "\n",
      "After COMPLETNESS we are left with 5113 objects and 530772 measurements\n",
      "--> There are  1166 PISN in the dataset\n",
      "\n",
      "\n",
      " CREATION OF THE TESTING DATA BASE\n",
      " \n",
      "We start with  345996 objects and 44282019 measurements\n",
      "\n",
      "After EXTRA-GALACTIC and DDF we have 307018 objects and 39329597 measurements\n",
      "--> There are  115 PISN in the dataset\n",
      "\n",
      "After PASSBANDS we have 307018 objects and 32047491 measurements\n",
      "--> There are  115 PISN in the dataset\n",
      "\n",
      "Total time to translate mjd 7.2 sec\n",
      "\n",
      "Total time to normalise flux 6.5 sec\n",
      "\n",
      "Total time to check completness 14.3 sec\n",
      "\n",
      "After COMPLETNESS we are left with 307018 objects and 32047491 measurements\n",
      "--> There are  115 PISN in the dataset\n"
     ]
    }
   ],
   "source": [
    "# define all your inputs as parameters\n",
    "\n",
    "\n",
    "#Parameters\n",
    "\n",
    "band = [2,3,4,5]\n",
    "ratioPISN = -1\n",
    "Dbool = False\n",
    "ddf = False\n",
    "extra = True\n",
    "complete = True\n",
    "mjd_tozero = True\n",
    "half = False\n",
    "norm_flux = True\n",
    "mini = 3\n",
    "metatest = metadata_test\n",
    "file = 'B10'\n",
    "\n",
    "\n",
    "#Name the file \n",
    "curve = 'Complete/'\n",
    "sample = 'Iron/'\n",
    "PISN_split = '-1'\n",
    " \n",
    "name_train = '../../plasticc/CleanDataBase/'+sample+curve+'train'+PISN_split+file\n",
    "name_test = '../../plasticc/CleanDataBase/'+sample+curve+'test'+PISN_split+file\n",
    "\n",
    "\n",
    "\n",
    "for training in [True,False]:#\n",
    "\n",
    "    if training == True:\n",
    "        name = name_train\n",
    "        data = data_train\n",
    "        metadata = metadata_train\n",
    "    else:\n",
    "        name = name_test\n",
    "        data = data_test\n",
    "        metadata = metadata_test\n",
    "\n",
    "    create(data, metadata,\n",
    "                band, name,\n",
    "                PISNdf, ratioPISN=ratioPISN,\n",
    "                training=training, Dbool=Dbool,\n",
    "                ddf=ddf, extra=extra,\n",
    "                complete=complete, mjd_tozero=mjd_tozero, mini=mini,\n",
    "                half=half, metatest=metatest, norm_flux=norm_flux)"
   ]
  },
  {
   "cell_type": "code",
   "execution_count": null,
   "id": "joint-compound",
   "metadata": {},
   "outputs": [],
   "source": []
  }
 ],
 "metadata": {
  "kernelspec": {
   "display_name": "Python 3",
   "language": "python",
   "name": "python3"
  },
  "language_info": {
   "codemirror_mode": {
    "name": "ipython",
    "version": 3
   },
   "file_extension": ".py",
   "mimetype": "text/x-python",
   "name": "python",
   "nbconvert_exporter": "python",
   "pygments_lexer": "ipython3",
   "version": "3.8.5"
  }
 },
 "nbformat": 4,
 "nbformat_minor": 5
}

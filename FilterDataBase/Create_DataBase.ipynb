{
 "cells": [
  {
   "cell_type": "markdown",
   "id": "synthetic-radar",
   "metadata": {},
   "source": [
    "## Filter a data base and save it"
   ]
  },
  {
   "cell_type": "code",
   "execution_count": 4,
   "id": "circular-norwegian",
   "metadata": {},
   "outputs": [],
   "source": [
    "from data_base import *\n",
    "import numpy as np\n",
    "import pandas as pd"
   ]
  },
  {
   "cell_type": "code",
   "execution_count": 7,
   "id": "binary-belle",
   "metadata": {},
   "outputs": [],
   "source": [
    "# Import your databases\n",
    "\n",
    "data_train = pd.read_csv(\"../../plasticc/train_data/plasticc_train_lightcurves.csv.gz\")\n",
    "metadata_train = pd.read_csv(\"../../plasticc/train_data/plasticc_train_metadata.csv.gz\")\n",
    "\n",
    "data_test = pd.read_csv(\"../../plasticc/test_data/plasticc_test_lightcurves_01.csv.gz\")\n",
    "metadata_test = pd.read_csv(\"../../plasticc/test_data/plasticc_test_metadata.csv.gz\")\n",
    "\n",
    "PISNdf=pd.read_pickle('../../plasticc/PISN/Fusion/PISN.pkl')"
   ]
  },
  {
   "cell_type": "code",
   "execution_count": null,
   "id": "annoying-factory",
   "metadata": {},
   "outputs": [
    {
     "name": "stdout",
     "output_type": "stream",
     "text": [
      "We start with  7848 objects and 1421705 mesures\n",
      "\n",
      "After EXTRA-GALACTIC and DDF we have 1576 objects and 517829 mesures\n",
      "\n",
      "After we add PISN we have 2748 objects and 667614 mesures\n",
      "--> There are  1172 PISN in the dataset\n",
      "\n",
      "After PASSBANDS we have 2748 objects and 459120 mesures\n",
      "--> There are  1172 PISN in the dataset\n",
      "\n",
      "After DDB we have 2741 objects and 86207 mesures\n",
      "--> There are  1172 PISN in the dataset\n",
      "\n",
      "Total time to normalise mjd 17.2 sec\n"
     ]
    }
   ],
   "source": [
    "# define all your inputs as parameters\n",
    "    \n",
    "name_train = '../../plasticc/CleanDataBase/Gold_train'\n",
    "name_test = '../../plasticc/CleanDataBase/Gold_test'\n",
    "\n",
    "\n",
    "band=[2,3,4,5]\n",
    "ratioPISN = -1\n",
    "Dbool = True\n",
    "ddf = True\n",
    "extra = True\n",
    "complete = True\n",
    "norm = True\n",
    "mini=5\n",
    "\n",
    "\n",
    "for training in [True, False]:\n",
    "\n",
    "    if training == True:\n",
    "        name = name_train\n",
    "        data = data_train\n",
    "        metadata = metadata_train\n",
    "    else:\n",
    "        name = name_test\n",
    "        data = data_test\n",
    "        metadata = metadata_test\n",
    "\n",
    "    create(data, metadata,\n",
    "                band, name,\n",
    "                PISNdf, ratioPISN=ratioPISN,\n",
    "                training=training, Dbool=Dbool,\n",
    "                ddf=ddf, extra=extra,\n",
    "                complete=complete, norm=norm, mini=mini)"
   ]
  },
  {
   "cell_type": "code",
   "execution_count": null,
   "id": "absolute-schedule",
   "metadata": {},
   "outputs": [],
   "source": []
  }
 ],
 "metadata": {
  "kernelspec": {
   "display_name": "Python 3",
   "language": "python",
   "name": "python3"
  },
  "language_info": {
   "codemirror_mode": {
    "name": "ipython",
    "version": 3
   },
   "file_extension": ".py",
   "mimetype": "text/x-python",
   "name": "python",
   "nbconvert_exporter": "python",
   "pygments_lexer": "ipython3",
   "version": "3.8.5"
  }
 },
 "nbformat": 4,
 "nbformat_minor": 5
}

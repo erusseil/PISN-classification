{
 "cells": [
  {
   "cell_type": "markdown",
   "id": "synthetic-radar",
   "metadata": {},
   "source": [
    "## Filter a data base and save it"
   ]
  },
  {
   "cell_type": "code",
   "execution_count": 1,
   "id": "circular-norwegian",
   "metadata": {},
   "outputs": [],
   "source": [
    "import data_base\n",
    "import numpy as np\n",
    "import pandas as pd"
   ]
  },
  {
   "cell_type": "code",
   "execution_count": 2,
   "id": "binary-belle",
   "metadata": {},
   "outputs": [
    {
     "name": "stdout",
     "output_type": "stream",
     "text": [
      "We start with  7848 objects and 1421705 mesures\n",
      "\n",
      "After EXTRA-GALACTIC and DDF we have 1576 objects and 517829 mesures\n",
      "\n",
      "After we add/remove PISN we have 1694 objects and 532455 mesures\n",
      "--> There are  118 PISN in the dataset\n",
      "\n",
      "After PASSBANDS we have 1694 objects and 349292 mesures\n",
      "--> There are  118 PISN in the dataset\n",
      "\n",
      "After DDB we have 1687 objects and 66868 mesures\n",
      "--> There are  118 PISN in the dataset\n",
      "\n",
      "Total time to normalise mjd 12.2 sec\n",
      "Total time to check completness 10.6 sec\n",
      "After COMPLETNESS we are left with 819 objects and 52087 mesures\n",
      "--> There are  24 PISN in the dataset\n",
      "We start with  7848 objects and 1421705 mesures\n",
      "\n",
      "After EXTRA-GALACTIC and DDF we have 1576 objects and 517829 mesures\n",
      "\n",
      "After we add/remove PISN we have 2630 objects and 652988 mesures\n",
      "--> There are  1054 PISN in the dataset\n",
      "\n",
      "After PASSBANDS we have 2630 objects and 447222 mesures\n",
      "--> There are  1054 PISN in the dataset\n",
      "\n",
      "After DDB we have 2623 objects and 84104 mesures\n",
      "--> There are  1054 PISN in the dataset\n",
      "\n",
      "Total time to normalise mjd 23.9 sec\n",
      "Total time to check completness 17.4 sec\n",
      "After COMPLETNESS we are left with 1056 objects and 61287 mesures\n",
      "--> There are  261 PISN in the dataset\n"
     ]
    }
   ],
   "source": [
    "# Import your databases\n",
    "\n",
    "data_train = pd.read_csv(\"../../plasticc/train_data/plasticc_train_lightcurves.csv.gz\")\n",
    "metadata_train = pd.read_csv(\"../../plasticc/train_data/plasticc_train_metadata.csv.gz\")\n",
    "\n",
    "data_test = pd.read_csv(\"../../plasticc/test_data/plasticc_test_lightcurves_01.csv.gz\")\n",
    "metadata_test = pd.read_csv(\"../../plasticc/test_data/plasticc_test_metadata.csv.gz\")\n",
    "\n",
    "PISNdf=pd.read_pickle('../data/PLAsTiCC_PISN/PISN.pkl')\n",
    "\n",
    "# define all your inputs as parameters\n",
    "    \n",
    "name_train = '../data/CleanDataBase/Gold_train_10'\n",
    "name_test = '../data/CleanDataBase/Gold_test_10'\n",
    "\n",
    "\n",
    "band=[2,3,4,5]\n",
    "ratioPISN = 0.1\n",
    "Dbool = True\n",
    "ddf = True\n",
    "extra = True\n",
    "complete = True\n",
    "norm = True\n",
    "mini=5\n",
    "\n",
    "\n",
    "for training in [True, False]:\n",
    "\n",
    "    if training == True:\n",
    "        name = name_train\n",
    "        data = data_train\n",
    "        metadata = metadata_train\n",
    "    else:\n",
    "        name = name_test\n",
    "        data = data_test\n",
    "        metadata = metadata_test\n",
    "\n",
    "    data_base.create(data, metadata,\n",
    "                    band, name,\n",
    "                    PISNdf, ratioPISN=ratioPISN,\n",
    "                    training=training, Dbool=Dbool,\n",
    "                    ddf=ddf, extra=extra,\n",
    "                    complete=complete, norm=norm, mini=mini)"
   ]
  }
 ],
 "metadata": {
  "kernelspec": {
   "display_name": "Python 3",
   "language": "python",
   "name": "python3"
  },
  "language_info": {
   "codemirror_mode": {
    "name": "ipython",
    "version": 3
   },
   "file_extension": ".py",
   "mimetype": "text/x-python",
   "name": "python",
   "nbconvert_exporter": "python",
   "pygments_lexer": "ipython3",
   "version": "3.8.5"
  }
 },
 "nbformat": 4,
 "nbformat_minor": 5
}

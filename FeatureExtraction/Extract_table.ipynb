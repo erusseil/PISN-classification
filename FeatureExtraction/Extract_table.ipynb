{
 "cells": [
  {
   "cell_type": "code",
   "execution_count": 1,
   "id": "bright-chocolate",
   "metadata": {},
   "outputs": [],
   "source": [
    "import pandas as pd\n",
    "from paraa import *"
   ]
  },
  {
   "cell_type": "code",
   "execution_count": 2,
   "id": "inappropriate-instruction",
   "metadata": {},
   "outputs": [],
   "source": [
    "train = pd.read_pickle('../../plasticc/CleanDataBase/Gold/Half/train-1.pkl')\n",
    "nb_param = 3\n",
    "band_used = [2,3,4,5]\n",
    "guess = [1,1,1]\n",
    "err = errfunc_poly\n",
    "\n",
    "save='../../plasticc/param_table/Gold/Half/train-1_poly.pkl'\n",
    "#checkpoint = pd.read_pickle('../../plasticc/param_table/test.pkl')"
   ]
  },
  {
   "cell_type": "code",
   "execution_count": 3,
   "id": "collective-cheese",
   "metadata": {
    "scrolled": false
   },
   "outputs": [
    {
     "name": "stdout",
     "output_type": "stream",
     "text": [
      "Number of objects to parametrize :  25 \n",
      "\n",
      "Total time of the parametrisation 0.5 sec\n"
     ]
    }
   ],
   "source": [
    "parametrise(train, nb_param, band_used, guess, err, save)"
   ]
  },
  {
   "cell_type": "code",
   "execution_count": null,
   "id": "allied-haven",
   "metadata": {},
   "outputs": [],
   "source": []
  }
 ],
 "metadata": {
  "kernelspec": {
   "display_name": "Python 3",
   "language": "python",
   "name": "python3"
  },
  "language_info": {
   "codemirror_mode": {
    "name": "ipython",
    "version": 3
   },
   "file_extension": ".py",
   "mimetype": "text/x-python",
   "name": "python",
   "nbconvert_exporter": "python",
   "pygments_lexer": "ipython3",
   "version": "3.8.5"
  }
 },
 "nbformat": 4,
 "nbformat_minor": 5
}

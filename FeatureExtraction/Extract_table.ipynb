{
 "cells": [
  {
   "cell_type": "code",
   "execution_count": 6,
   "id": "bright-chocolate",
   "metadata": {},
   "outputs": [],
   "source": [
    "import pandas as pd\n",
    "from paraa import *"
   ]
  },
  {
   "cell_type": "code",
   "execution_count": 7,
   "id": "inappropriate-instruction",
   "metadata": {},
   "outputs": [],
   "source": [
    "train = pd.read_pickle('../../plasticc/CleanDataBase/Gold_train.pkl')\n",
    "nb_param = 3\n",
    "band_used = [2,3,4,5]\n",
    "guess = [1,1,1]\n",
    "err = errfunc_poly\n",
    "\n",
    "save='../../plasticc/param_table/Gold_train.pkl'\n",
    "#checkpoint = pd.read_pickle('../../plasticc/param_table/test.pkl')"
   ]
  },
  {
   "cell_type": "code",
   "execution_count": 9,
   "id": "collective-cheese",
   "metadata": {
    "scrolled": false
   },
   "outputs": [
    {
     "name": "stdout",
     "output_type": "stream",
     "text": [
      "Total time of the parametrisation 20.2 sec\n"
     ]
    }
   ],
   "source": [
    "parametrise(train, nb_param, band_used, guess, err, save)"
   ]
  }
 ],
 "metadata": {
  "kernelspec": {
   "display_name": "Python 3",
   "language": "python",
   "name": "python3"
  },
  "language_info": {
   "codemirror_mode": {
    "name": "ipython",
    "version": 3
   },
   "file_extension": ".py",
   "mimetype": "text/x-python",
   "name": "python",
   "nbconvert_exporter": "python",
   "pygments_lexer": "ipython3",
   "version": "3.8.5"
  }
 },
 "nbformat": 4,
 "nbformat_minor": 5
}

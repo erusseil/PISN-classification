{
 "cells": [
  {
   "cell_type": "code",
   "execution_count": null,
   "id": "bright-chocolate",
   "metadata": {},
   "outputs": [],
   "source": [
    "import pandas as pd\n",
    "from models import *\n",
    "from parametrisation import *"
   ]
  },
  {
   "cell_type": "code",
   "execution_count": null,
   "id": "unexpected-revolution",
   "metadata": {},
   "outputs": [],
   "source": [
    "sample = 'Silver/'\n",
    "curve = 'Complete/'\n",
    "purpose = 'train'\n",
    "PISN_split = '-1'\n",
    "model = '_poly'\n",
    "file = 'B10'\n",
    "\n",
    "band_used = [2,3,4,5]\n",
    "guess = [1,1,1]\n",
    "\n",
    "err = errfunc_poly\n",
    "nb_points = True\n",
    "cost = True\n",
    "maxi = True"
   ]
  },
  {
   "cell_type": "code",
   "execution_count": null,
   "id": "inappropriate-instruction",
   "metadata": {},
   "outputs": [],
   "source": [
    "path = '../../plasticc/CleanDataBase/'+sample+curve+purpose+PISN_split+file\n",
    "\n",
    "clean = pd.read_pickle(path+'.pkl')\n",
    "\n",
    "nb_param = len(guess)\n",
    "peaktable = pd.read_pickle(path+'_maxdf.pkl')\n",
    "\n",
    "save='../../plasticc/param_table/'+sample+curve+purpose+PISN_split+model+file+'.pkl'\n",
    "#checkpoint = pd.read_pickle('../../plasticc/param_table/test.pkl')"
   ]
  },
  {
   "cell_type": "code",
   "execution_count": null,
   "id": "collective-cheese",
   "metadata": {
    "scrolled": true
   },
   "outputs": [],
   "source": [
    "parametrise(clean=clean, nb_param=nb_param, band_used=band_used, guess=guess, err=err,\n",
    "            save=save, cost=cost, maxi=maxi, nb_points=nb_points, peaktable=peaktable)"
   ]
  }
 ],
 "metadata": {
  "kernelspec": {
   "display_name": "Python 3",
   "language": "python",
   "name": "python3"
  },
  "language_info": {
   "codemirror_mode": {
    "name": "ipython",
    "version": 3
   },
   "file_extension": ".py",
   "mimetype": "text/x-python",
   "name": "python",
   "nbconvert_exporter": "python",
   "pygments_lexer": "ipython3",
   "version": "3.8.5"
  }
 },
 "nbformat": 4,
 "nbformat_minor": 5
}

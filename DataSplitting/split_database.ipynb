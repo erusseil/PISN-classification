{
 "cells": [
  {
   "cell_type": "code",
   "execution_count": 1,
   "id": "noted-crown",
   "metadata": {},
   "outputs": [],
   "source": [
    "from splitting import *\n",
    "import timeit"
   ]
  },
  {
   "cell_type": "code",
   "execution_count": 2,
   "id": "macro-spotlight",
   "metadata": {},
   "outputs": [],
   "source": [
    "band_used = [2,3,4,5]\n",
    "mini = 3"
   ]
  },
  {
   "cell_type": "code",
   "execution_count": null,
   "id": "aboriginal-harrison",
   "metadata": {
    "scrolled": false
   },
   "outputs": [
    {
     "name": "stdout",
     "output_type": "stream",
     "text": [
      "1  OK : 27.78296366699942 sec\n",
      "2  OK : 127.1491144949996 sec\n",
      "3  OK : 127.78849633500067 sec\n"
     ]
    }
   ],
   "source": [
    "# Import your databases\n",
    "\n",
    "for i in range(1,10):\n",
    "\n",
    "    start = timeit.default_timer()\n",
    "    \n",
    "    data = pd.read_csv(\"../../plasticc/test_data/plasticc_test_lightcurves_0\"+str(i)+\".csv.gz\")\n",
    "    expanded = split(data,mini=mini,band_used=band_used)\n",
    "    expanded.to_csv(r\"../../plasticc/test_data/plasticc_test_lightcurves_0\"+str(i)+\"_expanded2345\"+\".csv.gz\")\n",
    "    \n",
    "    stop = timeit.default_timer()\n",
    "    print(i,' OK : %s sec'%(stop - start))\n",
    "    \n",
    "    "
   ]
  },
  {
   "cell_type": "code",
   "execution_count": null,
   "id": "mature-wisdom",
   "metadata": {},
   "outputs": [],
   "source": [
    "# Import your databases\n",
    "\n",
    "for i in range(10,12):\n",
    "\n",
    "    start = timeit.default_timer()\n",
    "    \n",
    "    data = pd.read_csv(\"../../plasticc/test_data/plasticc_test_lightcurves_\"+str(i)+\".csv.gz\")\n",
    "    expanded = split(data,mini=mini,band_used=band_used)\n",
    "    expanded.to_csv(r\"../../plasticc/test_data/plasticc_test_lightcurves_\"+str(i)+\"_expanded2345\"+\".csv.gz\")\n",
    "    \n",
    "    stop = timeit.default_timer()\n",
    "    print(i,' OK : %s sec'%(stop - start))\n",
    "    \n",
    "    "
   ]
  },
  {
   "cell_type": "code",
   "execution_count": null,
   "id": "moral-salad",
   "metadata": {},
   "outputs": [],
   "source": [
    "meta = pd.read_csv(\"../../plasticc/test_data/plasticc_test_metadata.csv.gz\")\n",
    "expanded_meta = split_meta(meta)\n",
    "expanded_meta.to_csv(r\"../../plasticc/test_data/plasticc_test_metadata_expanded.csv.gz\")"
   ]
  },
  {
   "cell_type": "code",
   "execution_count": null,
   "id": "handed-audio",
   "metadata": {},
   "outputs": [],
   "source": []
  }
 ],
 "metadata": {
  "kernelspec": {
   "display_name": "Python 3",
   "language": "python",
   "name": "python3"
  },
  "language_info": {
   "codemirror_mode": {
    "name": "ipython",
    "version": 3
   },
   "file_extension": ".py",
   "mimetype": "text/x-python",
   "name": "python",
   "nbconvert_exporter": "python",
   "pygments_lexer": "ipython3",
   "version": "3.8.5"
  }
 },
 "nbformat": 4,
 "nbformat_minor": 5
}

{
 "cells": [
  {
   "cell_type": "code",
   "execution_count": 4,
   "id": "noted-crown",
   "metadata": {},
   "outputs": [],
   "source": [
    "from splitting import *\n",
    "import timeit"
   ]
  },
  {
   "cell_type": "code",
   "execution_count": 5,
   "id": "herbal-response",
   "metadata": {},
   "outputs": [],
   "source": [
    "band_used = [2,3,4,5]\n",
    "mini = 3\n",
    "name = \"_expanded2345\""
   ]
  },
  {
   "cell_type": "code",
   "execution_count": 6,
   "id": "aboriginal-harrison",
   "metadata": {
    "scrolled": false
   },
   "outputs": [
    {
     "name": "stdout",
     "output_type": "stream",
     "text": [
      "1  OK : 28.240455110997573 sec\n",
      "2  OK : 133.38837130499815 sec\n",
      "3  OK : 124.7404340810026 sec\n",
      "4  OK : 127.17623128899868 sec\n",
      "5  OK : 126.40152951999698 sec\n",
      "6  OK : 124.11042193399771 sec\n",
      "7  OK : 124.83073010799853 sec\n",
      "8  OK : 126.32558133999919 sec\n",
      "9  OK : 135.2278095340007 sec\n"
     ]
    }
   ],
   "source": [
    "# Import your databases\n",
    "\n",
    "for i in range(1,12):\n",
    "\n",
    "    if i < 10 :\n",
    "        number = '0'+str(i)\n",
    "    else:\n",
    "        number = str(i)\n",
    "    \n",
    "    start = timeit.default_timer()\n",
    "    \n",
    "    data = pd.read_csv(\"../../plasticc/test_data/plasticc_test_lightcurves_\"+number+\".csv.gz\")\n",
    "    expanded = split(data,mini=mini,band_used=band_used)\n",
    "    expanded.to_csv(r\"../../plasticc/test_data/plasticc_test_lightcurves_\"+number+name+\".csv.gz\", index=False)\n",
    "    \n",
    "    stop = timeit.default_timer()\n",
    "    print(i,' OK : %s sec'%(stop - start))\n",
    "    \n",
    "    "
   ]
  },
  {
   "cell_type": "code",
   "execution_count": 8,
   "id": "moral-salad",
   "metadata": {},
   "outputs": [],
   "source": [
    "meta = pd.read_csv(\"../../plasticc/test_data/plasticc_test_metadata.csv.gz\")\n",
    "expanded_meta = split_meta(meta)\n",
    "expanded_meta.to_csv(r\"../../plasticc/test_data/plasticc_test_metadata_expanded.csv.gz\", index=False)"
   ]
  }
 ],
 "metadata": {
  "kernelspec": {
   "display_name": "Python 3",
   "language": "python",
   "name": "python3"
  },
  "language_info": {
   "codemirror_mode": {
    "name": "ipython",
    "version": 3
   },
   "file_extension": ".py",
   "mimetype": "text/x-python",
   "name": "python",
   "nbconvert_exporter": "python",
   "pygments_lexer": "ipython3",
   "version": "3.8.5"
  }
 },
 "nbformat": 4,
 "nbformat_minor": 5
}

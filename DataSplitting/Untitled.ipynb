{
 "cells": [
  {
   "cell_type": "code",
   "execution_count": 1,
   "id": "noted-crown",
   "metadata": {},
   "outputs": [],
   "source": [
    "from splitting import *"
   ]
  },
  {
   "cell_type": "code",
   "execution_count": 2,
   "id": "aboriginal-harrison",
   "metadata": {},
   "outputs": [],
   "source": [
    "# Import your databases\n",
    "\n",
    "data_train = pd.read_csv(\"../../plasticc/train_data/plasticc_train_lightcurves.csv.gz\")\n",
    "data_test = pd.read_csv(\"../../plasticc/test_data/plasticc_test_lightcurves_01.csv.gz\")"
   ]
  },
  {
   "cell_type": "code",
   "execution_count": 25,
   "id": "duplicate-surface",
   "metadata": {
    "scrolled": false
   },
   "outputs": [
    {
     "name": "stderr",
     "output_type": "stream",
     "text": [
      "/home/lsst/miniconda3/lib/python3.8/site-packages/pandas/core/indexing.py:1676: SettingWithCopyWarning: \n",
      "A value is trying to be set on a copy of a slice from a DataFrame.\n",
      "Try using .loc[row_indexer,col_indexer] = value instead\n",
      "\n",
      "See the caveats in the documentation: https://pandas.pydata.org/pandas-docs/stable/user_guide/indexing.html#returning-a-view-versus-a-copy\n",
      "  self._setitem_single_column(ilocs[0], value, pi)\n"
     ]
    }
   ],
   "source": [
    "expended = split(data_test)"
   ]
  },
  {
   "cell_type": "code",
   "execution_count": null,
   "id": "oriental-schema",
   "metadata": {},
   "outputs": [],
   "source": []
  }
 ],
 "metadata": {
  "kernelspec": {
   "display_name": "Python 3",
   "language": "python",
   "name": "python3"
  },
  "language_info": {
   "codemirror_mode": {
    "name": "ipython",
    "version": 3
   },
   "file_extension": ".py",
   "mimetype": "text/x-python",
   "name": "python",
   "nbconvert_exporter": "python",
   "pygments_lexer": "ipython3",
   "version": "3.8.5"
  }
 },
 "nbformat": 4,
 "nbformat_minor": 5
}
